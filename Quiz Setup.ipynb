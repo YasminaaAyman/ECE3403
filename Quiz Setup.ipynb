{
 "cells": [
  {
   "cell_type": "code",
   "execution_count": 1,
   "id": "fbf45065-22f9-4fd7-8a6d-36f758825f3b",
   "metadata": {
    "deletable": false,
    "editable": false
   },
   "outputs": [
    {
     "data": {
      "application/javascript": "// Full Screen Mode\nfunction go_fullscreen() {\n    if (document.documentElement.requestFullscreen) {\n        document.documentElement.requestFullscreen();\n    } else if (document.documentElement.mozRequestFullScreen) {\n        document.documentElement.mozRequestFullScreen();\n    } else if (document.documentElement.webkitRequestFullscreen) {\n        document.documentElement.webkitRequestFullscreen();\n    } else if (document.documentElement.msRequestFullscreen) {\n        document.documentElement.msRequestFullscreen();\n    }\n}\n\ngo_fullscreen()\n\n\n// // Disable Copy (Keyboard Shortcut)\n// document.addEventListener(\"copy\", function(e) {\n//     e.clipboardData.setData(\"text/plain\", \"Copying is disabled!\");\n//     e.preventDefault();  // Prevent the default copy action\n\n// });\n\n\n// // Disable Paste (Keyboard Shortcut)\n// document.addEventListener(\"paste\", function(e) {\n//     e.clipboardData.setData(\"text/plain\", \"Pasting is disabled!\");\n//     e.preventDefault();\n\n// });\n\ndocument.addEventListener(\"keydown\", function(e) {\n    if ((e.ctrlKey || e.metaKey) && (e.key === \"c\" || e.key === \"v\")) {\n        e.clipboardData.setData(\"text/plain\", \"Copy and Paste are disabled :)\");\n        e.preventDefault();\n        // alert(\"Copying and pasting are disabled!\");\n    }\n});\n\n// Disable Copy/paste (Right-Click Menu)\ndocument.addEventListener(\"contextmenu\", function (event) {\n    event.preventDefault();\n});\n\n\n\n\n\n\n\n",
      "text/plain": [
       "<IPython.core.display.Javascript object>"
      ]
     },
     "metadata": {},
     "output_type": "display_data"
    }
   ],
   "source": [
    "from IPython.display import display, Javascript\n",
    "display(Javascript(open(\".hidden/Quiz_Setup.js\").read()))"
   ]
  },
  {
   "cell_type": "markdown",
   "id": "b0cb4795-0dba-4efc-a080-c86ed621cb6a",
   "metadata": {
    "deletable": false,
    "editable": false,
    "slideshow": {
     "slide_type": ""
    },
    "tags": []
   },
   "source": [
    "# 7th Quiz"
   ]
  },
  {
   "cell_type": "code",
   "execution_count": null,
   "id": "7d310a27-bf4e-4ca7-a564-b8a257fd54f9",
   "metadata": {
    "deletable": false,
    "editable": false,
    "slideshow": {
     "slide_type": ""
    },
    "tags": []
   },
   "outputs": [],
   "source": [
    "import pandas as pd\n",
    "import numpy as np\n",
    "import seaborn as sns\n",
    "import matplotlib.pyplot as plt"
   ]
  },
  {
   "cell_type": "code",
   "execution_count": null,
   "id": "61cffc2e-6fe7-4ecc-a96f-8a59241e7716",
   "metadata": {
    "deletable":false,
    "editable": false,
    "slideshow": {
     "slide_type": ""
    },
    "tags": []
   },
   "outputs": [],
   "source": [
    "df = pd.read_csv(\"Spaceship_Titanic_train.csv\")"
   ]
  },
  {
   "cell_type": "code",
   "execution_count": null,
   "id": "36aad1db-f68b-414d-b8b4-3fd1e449eacc",
   "metadata": {},
   "outputs": [],
   "source": []
  }
 ],
 "metadata": {
  "custom": {
   "disable_copy": true
  },
  "kernelspec": {
   "display_name": "Python 3 (ipykernel)",
   "language": "python",
   "name": "python3"
  },
  "language_info": {
   "codemirror_mode": {
    "name": "ipython",
    "version": 3
   },
   "file_extension": ".py",
   "mimetype": "text/x-python",
   "name": "python",
   "nbconvert_exporter": "python",
   "pygments_lexer": "ipython3",
   "version": "3.9.0"
  }
 },
 "nbformat": 4,
 "nbformat_minor": 5
}
